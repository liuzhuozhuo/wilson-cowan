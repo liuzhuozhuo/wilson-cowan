{
 "cells": [
  {
   "cell_type": "code",
   "execution_count": null,
   "id": "3117df0b",
   "metadata": {},
   "outputs": [],
   "source": [
    "import numpy as np\n",
    "import matplotlib.pyplot as plt\n",
    "\n",
    "from tqdm import tqdm\n",
    "from scipy import optimize\n",
    "from numba import njit"
   ]
  },
  {
   "cell_type": "markdown",
   "id": "85873be5",
   "metadata": {},
   "source": [
    "### Wilson-Cowan equations\n",
    "\n",
    "In the general case, the Wilson-Cowan equations have the form,\n",
    "\n",
    "\\begin{align}\n",
    "\\begin{split}\n",
    "    \\tau_E \\frac{dE}{dt} &= -E + S(\\omega_{EE} E - \\omega_{EI} I + P_E) \\\\\n",
    "    \\tau_I \\frac{dI}{dt} &= -I + S(\\omega_{IE} E - \\omega_{II} I + P_I) \\\\\n",
    "\\end{split}\n",
    "\\end{align}"
   ]
  },
  {
   "cell_type": "code",
   "execution_count": null,
   "id": "0baa4570",
   "metadata": {},
   "outputs": [],
   "source": [
    "\n",
    "@njit\n",
    "def S(x):\n",
    "    \"\"\"\n",
    "    S function\n",
    "    \"\"\"\n",
    "    return np.tanh(x/2)/2\n",
    "\n",
    "#Define S prime\n",
    "@njit\n",
    "def S_prime(x):\n",
    "    return 1/4*(1-np.tanh(x/2)**2)\n",
    "\n",
    "#Define the System of equations\n",
    "@njit\n",
    "def wilson_covan (y, wEE, wEI, wIE, wII, P, t):\n",
    "    E, I = y\n",
    "    P_E, P_I = P\n",
    "    tau_E, tau_I = t\n",
    "    dEdt = (-E + S (wEE * E - wEI * I + P_E)) / tau_E\n",
    "    dIdt = (-I + S (wIE * E - wII * I + P_I)) / tau_I\n",
    "    return np.array([dEdt, dIdt])\n",
    "\n",
    "#Define the Jacobian matrix \n",
    "@njit\n",
    "def jacobian(y, wEE, wEI, wIE, wII, P, t):\n",
    "    E, I = y\n",
    "    P_E, P_I = P\n",
    "    tau_E, tau_I = t\n",
    "\n",
    "    dEdE = (-1 + wEE * S_prime(wEE * E - wEI * I + P_E))/tau_E\n",
    "    dEdI = -wEI * S_prime(wEE * E - wEI * I +P_E) / tau_E\n",
    "    dIdE = wIE * S_prime(wIE * E - wII * I + P_I) / tau_I\n",
    "    dIdI = (-1 - wII*S_prime(wIE * E - wII * I + P_I))/ tau_I\n",
    "\n",
    "    return np.array([dEdE, dEdI, dIdE, dIdI])\n"
   ]
  },
  {
   "cell_type": "markdown",
   "id": "869a3fea",
   "metadata": {},
   "source": [
    "### Task 1: Dynamical Regimes\n",
    "\n",
    "In the first task we are interested in analyzing the different dynamical regimes that the model produce. The ones that we will consider are,\n",
    "\n",
    "+ Quiescent: produced in the cases where there"
   ]
  }
 ],
 "metadata": {
  "kernelspec": {
   "display_name": "base",
   "language": "python",
   "name": "python3"
  },
  "language_info": {
   "name": "python",
   "version": "3.10.13"
  }
 },
 "nbformat": 4,
 "nbformat_minor": 5
}
