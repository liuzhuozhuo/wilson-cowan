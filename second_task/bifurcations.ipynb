{
 "cells": [
  {
   "cell_type": "markdown",
   "id": "10498277",
   "metadata": {},
   "source": [
    "### Bogdanov-Takens bifurcation\n",
    "The Andronov-Hopf and saddle-node bifurcation sets can intersect each other, and since the Wilson-Cowan model can have more than one equilibrium, the intersections could correspond to simultaneous bifurcations of different equilibria. \n",
    "\n",
    "When both bifurcations happen to be of the same equilibrium the bifurcation is called a Bogdanov- Takens bifurcation, and the Jacobian matrix $J$ verifies,\n",
    "\n",
    "\\begin{equation}\n",
    "    \\text{det} (J) = 0,\\quad \\text{Tr} (J) = 0 \n",
    "\\end{equation}\n",
    "\n",
    "this is the condition that we will use to find Bogdanov-Takens bifurcation\n",
    "\n",
    "### Saddle Node on Invariant Cycle\n",
    "\n",
    "Let's understand first saddle node on limit cycles. Considering a dynamical system having a saddle-node bifurcation. \n",
    "\n",
    "![image](\\figures\\saddle-node_bifurcation.png)\n",
    "\n",
    "If the initial condition $x(0)$ starts from the right-hand side of the saddle (open circle), then $x(t)$ increases and leaves a small neighborhood containing the saddle and the node. To study x(t) far away from the neighborhood requires global knowledge of the function f(x, A) . Depending on the function, x(t) can go to infinity or be attracted to another stable equilibrium, limit cycle, chaotic attractor, etc. \n",
    "\n",
    "It is also possible that x(t) can return to the neighborhood. The simplest case for this occurs when the left and the right branches of the invariant manifold M make a loop.\n",
    "\n",
    "![image](\\figures\\saddle-node_limit_cycle.png)\n",
    "\n",
    "When x(O) is near the right branch of M, it leaves a neighborhood of the saddle, makes a rotation along M, and approaches the node. Such an excursion in neuroscience applications is called an action potential or a spike. Obviously, the node is an attractor for all x inside the limit cycle and could be an attractor for all points outside the cycle. The activity x(t) of a dynamical system having phase portrait as in Figure 2.29a or b always converges to the node, at least for x(O) close enough to the limit cycle. The invariant manifold M is itself an orbit, which starts from the saddle (open circle in Figure 2.29a) and ends in the node (shaded circle) . Such an orbit is said to be heteroclinic."
   ]
  },
  {
   "cell_type": "markdown",
   "id": "81c80012",
   "metadata": {},
   "source": [
    "### Code\n",
    "\n",
    "As for the programing we start by defining the same things as the previous task."
   ]
  },
  {
   "cell_type": "code",
   "execution_count": null,
   "id": "045596ab",
   "metadata": {},
   "outputs": [],
   "source": [
    "import numpy as np\n",
    "from scipy import optimize\n",
    "import matplotlib.pyplot as plt\n",
    "\n",
    "\n",
    "def S(x):\n",
    "    \"\"\"\n",
    "    S function\n",
    "    \"\"\"\n",
    "    return np.tanh(x/2)/2\n",
    "\n",
    "def S_prime(x):\n",
    "    return 1/4*(1-np.tanh(x/2)**2)\n",
    "\n",
    "#Define the System of equations\n",
    "def wilson_covan (y, wEE, wEI, wIE, wII, P, t):\n",
    "    E, I = y\n",
    "    P_E, P_I = P\n",
    "    tau_E, tau_I = t\n",
    "    dEdt = (-E + S (wEE * E - wEI * I + P_E)) / tau_E\n",
    "    dIdt = (-I + S (wIE * E - wII * I + P_I)) / tau_I\n",
    "    return np.array([dEdt, dIdt])\n",
    "\n",
    "#Define the Jacobian matrix \n",
    "def jacobian(y, wEE, wEI, wIE, wII, P, t):\n",
    "    E, I = y\n",
    "    P_E, P_I = P\n",
    "    tau_E, tau_I = t\n",
    "\n",
    "    dEdE = (-1 + wEE * S_prime(wEE * E - wEI * I + P_E))/tau_E\n",
    "    dEdI = -wEI * S_prime(wEE * E - wEI * I +P_E) / tau_E\n",
    "    dIdE = wIE * S_prime(wIE * E - wII * I + P_I) / tau_I\n",
    "    dIdI = (-1 - wII*S_prime(wIE * E - wII * I + P_I))/ tau_I\n",
    "\n",
    "    return np.array([dEdE, dEdI, dIdE, dIdI])"
   ]
  },
  {
   "cell_type": "markdown",
   "id": "5a741a4c",
   "metadata": {},
   "source": [
    "#### Find the fixed points and classify the stability\n",
    "\n",
    "The same as before the same code is used to find the fixed points."
   ]
  },
  {
   "cell_type": "code",
   "execution_count": null,
   "id": "2d187e7b",
   "metadata": {},
   "outputs": [],
   "source": [
    "def fixed_points(wEE, wEI, wIE, wII, tol, initial_guess, P = ([0, 0]), t=[1, 1]):\n",
    "    fixed_points = [[0, 0]]\n",
    "    for guess in initial_guess:\n",
    "        sol = optimize.root(wilson_covan, guess, args=(wEE, wEI, wIE, wII, P, t))\n",
    "        if sol.success:\n",
    "            if not any(np.allclose(sol.x, fp, atol=tol) for fp in fixed_points):\n",
    "                fixed_points.append(sol.x)\n",
    "    return np.array(fixed_points)\n",
    "\n",
    "# Stability analysis (Jacobian method)\n",
    "def stability_analysis(wEE, wIE, wEI, wII, fixed_points):\n",
    "    stable = []\n",
    "    for point in fixed_points:\n",
    "        J = jacobian(point, wEE, wEI, wIE, wII, P=[0, 0], t=[1, 1])\n",
    "        new_J = np.array([[J[0], J[1]], [J[2], J[3]]])\n",
    "        eigenvalues = np.linalg.eigvals(new_J)\n",
    "        if np.all(np.real(eigenvalues) < 0):\n",
    "            stable.append(\"Stable\")\n",
    "        elif np.any(np.real(eigenvalues) > 0):\n",
    "            stable.append(\"Unstable\")\n",
    "    return np.array(stable)"
   ]
  },
  {
   "cell_type": "markdown",
   "id": "36e97bec",
   "metadata": {},
   "source": [
    "#### Prepare inital values and other parameters."
   ]
  },
  {
   "cell_type": "code",
   "execution_count": null,
   "id": "559ce1c1",
   "metadata": {},
   "outputs": [],
   "source": [
    "# Phase diagram\n",
    "wEI, wII = 10, 1  # Fixed inhibitory parameters\n",
    "wEE_values = np.linspace(0.1, 30, 200)\n",
    "wIE_values = np.linspace(0.1, 20, 200)\n",
    "stability_map = np.zeros((len(wEE_values), len(wIE_values)))\n",
    "\n",
    "tol_EI = 1e-5 #The toletance in E and I, to consider if 2 close fixed points are the same.\n",
    "\n",
    "N = 100\n",
    "x = 2\n",
    "initial_guesses = np.zeros((N, 2))\n",
    "\n",
    "for i in range(N):\n",
    "    initial_guesses[i] = np.array([np.random.uniform(-x, x), np.random.uniform(-x, x)])"
   ]
  },
  {
   "cell_type": "markdown",
   "id": "d2355a70",
   "metadata": {},
   "source": [
    "#### Classification of bifurcations\n"
   ]
  }
 ],
 "metadata": {
  "kernelspec": {
   "display_name": "base",
   "language": "python",
   "name": "python3"
  },
  "language_info": {
   "codemirror_mode": {
    "name": "ipython",
    "version": 3
   },
   "file_extension": ".py",
   "mimetype": "text/x-python",
   "name": "python",
   "nbconvert_exporter": "python",
   "pygments_lexer": "ipython3",
   "version": "3.12.7"
  }
 },
 "nbformat": 4,
 "nbformat_minor": 5
}
